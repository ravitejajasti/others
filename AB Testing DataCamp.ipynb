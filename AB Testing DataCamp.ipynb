{
 "cells": [
  {
   "cell_type": "markdown",
   "id": "9a9ada08-c9f0-466f-91a0-265fa539f9f5",
   "metadata": {},
   "source": [
    "# Which version of the website should you use?\n",
    "\n",
    "## 📖 Background\n",
    "You work for an early-stage startup in Germany. Your team has been working on a redesign of the landing page. The team believes a new design will increase the number of people who click through and join your site. \n",
    "\n",
    "They have been testing the changes for a few weeks and now they want to measure the impact of the change and need you to determine if the increase can be due to random chance or if it is statistically significant."
   ]
  },
  {
   "cell_type": "markdown",
   "id": "10dcc269-3659-4851-99cd-f1ffb7f818aa",
   "metadata": {
    "tags": []
   },
   "source": [
    "## 💾 The data\n",
    "The team assembled the following file:\n",
    "\n",
    "#### Redesign test data\n",
    "- \"treatment\" - \"yes\" if the user saw the new version of the landing page, no otherwise.\n",
    "- \"new_images\" - \"yes\" if the page used a new set of images, no otherwise.\n",
    "- \"converted\" - 1 if the user joined the site, 0 otherwise.\n",
    "\n",
    "The control group is those users with \"no\" in both columns: the old version with the old set of images."
   ]
  },
  {
   "cell_type": "code",
   "execution_count": null,
   "id": "40251159-3eea-47f8-bfb4-09e38d5ced65",
   "metadata": {},
   "outputs": [
    {
     "data": {
      "application/com.datacamp.data-table.v1+json": {
       "is_truncated": false,
       "table": {
        "data": [
         {
          "converted": 0,
          "index": 0,
          "new_images": "yes",
          "treatment": "yes"
         },
         {
          "converted": 0,
          "index": 1,
          "new_images": "yes",
          "treatment": "yes"
         },
         {
          "converted": 0,
          "index": 2,
          "new_images": "yes",
          "treatment": "yes"
         },
         {
          "converted": 0,
          "index": 3,
          "new_images": "no",
          "treatment": "yes"
         },
         {
          "converted": 0,
          "index": 4,
          "new_images": "yes",
          "treatment": "no"
         }
        ],
        "schema": {
         "fields": [
          {
           "name": "index",
           "type": "integer"
          },
          {
           "name": "treatment",
           "type": "string"
          },
          {
           "name": "new_images",
           "type": "string"
          },
          {
           "name": "converted",
           "type": "integer"
          }
         ],
         "pandas_version": "0.20.0",
         "primaryKey": [
          "index"
         ]
        }
       }
      },
      "text/html": [
       "<div>\n",
       "<style scoped>\n",
       "    .dataframe tbody tr th:only-of-type {\n",
       "        vertical-align: middle;\n",
       "    }\n",
       "\n",
       "    .dataframe tbody tr th {\n",
       "        vertical-align: top;\n",
       "    }\n",
       "\n",
       "    .dataframe thead th {\n",
       "        text-align: right;\n",
       "    }\n",
       "</style>\n",
       "<table border=\"1\" class=\"dataframe\">\n",
       "  <thead>\n",
       "    <tr style=\"text-align: right;\">\n",
       "      <th></th>\n",
       "      <th>treatment</th>\n",
       "      <th>new_images</th>\n",
       "      <th>converted</th>\n",
       "    </tr>\n",
       "  </thead>\n",
       "  <tbody>\n",
       "    <tr>\n",
       "      <th>0</th>\n",
       "      <td>yes</td>\n",
       "      <td>yes</td>\n",
       "      <td>0</td>\n",
       "    </tr>\n",
       "    <tr>\n",
       "      <th>1</th>\n",
       "      <td>yes</td>\n",
       "      <td>yes</td>\n",
       "      <td>0</td>\n",
       "    </tr>\n",
       "    <tr>\n",
       "      <th>2</th>\n",
       "      <td>yes</td>\n",
       "      <td>yes</td>\n",
       "      <td>0</td>\n",
       "    </tr>\n",
       "    <tr>\n",
       "      <th>3</th>\n",
       "      <td>yes</td>\n",
       "      <td>no</td>\n",
       "      <td>0</td>\n",
       "    </tr>\n",
       "    <tr>\n",
       "      <th>4</th>\n",
       "      <td>no</td>\n",
       "      <td>yes</td>\n",
       "      <td>0</td>\n",
       "    </tr>\n",
       "  </tbody>\n",
       "</table>\n",
       "</div>"
      ],
      "text/plain": [
       "  treatment new_images  converted\n",
       "0       yes        yes          0\n",
       "1       yes        yes          0\n",
       "2       yes        yes          0\n",
       "3       yes         no          0\n",
       "4        no        yes          0"
      ]
     },
     "execution_count": 71,
     "metadata": {},
     "output_type": "execute_result"
    }
   ],
   "source": [
    "import pandas as pd\n",
    "df = pd.read_csv('./data/redesign.csv')\n",
    "df.head()"
   ]
  },
  {
   "cell_type": "markdown",
   "id": "54e0ae0c-ff96-443e-9ff3-718f1ab846e5",
   "metadata": {},
   "source": [
    "## 💪 Challenge\n",
    "Complete the following tasks:\n",
    "\n",
    "1. Analyze the conversion rates for each of the four groups: the new/old design of the landing page and the new/old pictures.\n",
    "2. Can the increases observed be explained by randomness? (Hint: Think A/B test)\n",
    "3. Which version of the website should they use?"
   ]
  },
  {
   "cell_type": "markdown",
   "id": "efda8e32-5c7e-48cc-8bd6-83ad3ba72f6e",
   "metadata": {},
   "source": [
    "## 🧑‍⚖️ Judging criteria\n",
    "\n",
    "We will randomly select ten winners from the correct submissions for this challenge.\n",
    "\n",
    "The winners will receive DataCamp merchandise."
   ]
  },
  {
   "cell_type": "markdown",
   "id": "7fa68a10-14d8-4db9-a473-9efdab8f2fbd",
   "metadata": {},
   "source": [
    "## ✅ Checklist before publishing\n",
    "- Rename your workspace to make it descriptive of your work. N.B. you should leave the notebook name as notebook.ipynb.\n",
    "- Remove redundant cells like the judging criteria, so the workbook is focused on your answers.\n",
    "- Check that all the cells run without error."
   ]
  },
  {
   "cell_type": "code",
   "execution_count": null,
   "id": "358f756f-da5d-444b-b231-c3cb939df297",
   "metadata": {},
   "outputs": [
    {
     "data": {
      "application/com.datacamp.data-table.v1+json": {
       "is_truncated": false,
       "table": {
        "data": [
         {
          "0": 0.8928959589,
          "1": 0.1071040411,
          "All": 1,
          "index": 0,
          "new_images": "no",
          "treatment": "no"
         },
         {
          "0": 0.8874617133,
          "1": 0.1125382867,
          "All": 1,
          "index": 1,
          "new_images": "yes",
          "treatment": "no"
         },
         {
          "0": 0.8799525739,
          "1": 0.1200474261,
          "All": 1,
          "index": 2,
          "new_images": "no",
          "treatment": "yes"
         },
         {
          "0": 0.8862760597,
          "1": 0.1137239403,
          "All": 1,
          "index": 3,
          "new_images": "yes",
          "treatment": "yes"
         },
         {
          "0": 0.8866465764,
          "1": 0.1133534236,
          "All": 1,
          "index": 4,
          "new_images": "",
          "treatment": "All"
         }
        ],
        "schema": {
         "fields": [
          {
           "name": "index",
           "type": "integer"
          },
          {
           "name": "treatment",
           "type": "string"
          },
          {
           "name": "new_images",
           "type": "string"
          },
          {
           "name": 0,
           "type": "number"
          },
          {
           "name": 1,
           "type": "number"
          },
          {
           "name": "All",
           "type": "number"
          }
         ],
         "pandas_version": "0.20.0",
         "primaryKey": [
          "index"
         ]
        }
       }
      },
      "text/html": [
       "<div>\n",
       "<style scoped>\n",
       "    .dataframe tbody tr th:only-of-type {\n",
       "        vertical-align: middle;\n",
       "    }\n",
       "\n",
       "    .dataframe tbody tr th {\n",
       "        vertical-align: top;\n",
       "    }\n",
       "\n",
       "    .dataframe thead th {\n",
       "        text-align: right;\n",
       "    }\n",
       "</style>\n",
       "<table border=\"1\" class=\"dataframe\">\n",
       "  <thead>\n",
       "    <tr style=\"text-align: right;\">\n",
       "      <th>converted</th>\n",
       "      <th>treatment</th>\n",
       "      <th>new_images</th>\n",
       "      <th>0</th>\n",
       "      <th>1</th>\n",
       "      <th>All</th>\n",
       "    </tr>\n",
       "  </thead>\n",
       "  <tbody>\n",
       "    <tr>\n",
       "      <th>0</th>\n",
       "      <td>no</td>\n",
       "      <td>no</td>\n",
       "      <td>0.892896</td>\n",
       "      <td>0.107104</td>\n",
       "      <td>1.0</td>\n",
       "    </tr>\n",
       "    <tr>\n",
       "      <th>1</th>\n",
       "      <td>no</td>\n",
       "      <td>yes</td>\n",
       "      <td>0.887462</td>\n",
       "      <td>0.112538</td>\n",
       "      <td>1.0</td>\n",
       "    </tr>\n",
       "    <tr>\n",
       "      <th>2</th>\n",
       "      <td>yes</td>\n",
       "      <td>no</td>\n",
       "      <td>0.879953</td>\n",
       "      <td>0.120047</td>\n",
       "      <td>1.0</td>\n",
       "    </tr>\n",
       "    <tr>\n",
       "      <th>3</th>\n",
       "      <td>yes</td>\n",
       "      <td>yes</td>\n",
       "      <td>0.886276</td>\n",
       "      <td>0.113724</td>\n",
       "      <td>1.0</td>\n",
       "    </tr>\n",
       "    <tr>\n",
       "      <th>4</th>\n",
       "      <td>All</td>\n",
       "      <td></td>\n",
       "      <td>0.886647</td>\n",
       "      <td>0.113353</td>\n",
       "      <td>1.0</td>\n",
       "    </tr>\n",
       "  </tbody>\n",
       "</table>\n",
       "</div>"
      ],
      "text/plain": [
       "converted treatment new_images         0         1  All\n",
       "0                no         no  0.892896  0.107104  1.0\n",
       "1                no        yes  0.887462  0.112538  1.0\n",
       "2               yes         no  0.879953  0.120047  1.0\n",
       "3               yes        yes  0.886276  0.113724  1.0\n",
       "4               All             0.886647  0.113353  1.0"
      ]
     },
     "execution_count": 72,
     "metadata": {},
     "output_type": "execute_result"
    }
   ],
   "source": [
    "\n",
    "\n",
    "df222 = pd.crosstab(index=[df['treatment'],df['new_images']], columns= df['converted'],margins=True).reset_index()\n",
    "\n",
    "df222[0] = df222[0]/df222['All']\n",
    "df222[1] = df222[1]/df222['All']\n",
    "df222['All'] = df222['All']/df222['All']\n",
    "df222\n",
    "\n",
    "#clearly 3rd one has higher conversion rate.\n",
    "\n"
   ]
  },
  {
   "cell_type": "code",
   "execution_count": null,
   "id": "0ca46896-0d6e-4a8c-80b7-10004b66dc66",
   "metadata": {},
   "outputs": [
    {
     "data": {
      "application/com.datacamp.data-table.v1+json": {
       "is_truncated": false,
       "table": {
        "data": [
         {
          "0": 9037,
          "1": 1084,
          "index": 0
         },
         {
          "0": 8982,
          "1": 1139,
          "index": 1
         },
         {
          "0": 8906,
          "1": 1215,
          "index": 2
         },
         {
          "0": 8970,
          "1": 1151,
          "index": 3
         }
        ],
        "schema": {
         "fields": [
          {
           "name": "index",
           "type": "integer"
          },
          {
           "name": 0,
           "type": "integer"
          },
          {
           "name": 1,
           "type": "integer"
          }
         ],
         "pandas_version": "0.20.0",
         "primaryKey": [
          "index"
         ]
        }
       }
      },
      "text/html": [
       "<div>\n",
       "<style scoped>\n",
       "    .dataframe tbody tr th:only-of-type {\n",
       "        vertical-align: middle;\n",
       "    }\n",
       "\n",
       "    .dataframe tbody tr th {\n",
       "        vertical-align: top;\n",
       "    }\n",
       "\n",
       "    .dataframe thead th {\n",
       "        text-align: right;\n",
       "    }\n",
       "</style>\n",
       "<table border=\"1\" class=\"dataframe\">\n",
       "  <thead>\n",
       "    <tr style=\"text-align: right;\">\n",
       "      <th>converted</th>\n",
       "      <th>0</th>\n",
       "      <th>1</th>\n",
       "    </tr>\n",
       "  </thead>\n",
       "  <tbody>\n",
       "    <tr>\n",
       "      <th>0</th>\n",
       "      <td>9037</td>\n",
       "      <td>1084</td>\n",
       "    </tr>\n",
       "    <tr>\n",
       "      <th>1</th>\n",
       "      <td>8982</td>\n",
       "      <td>1139</td>\n",
       "    </tr>\n",
       "    <tr>\n",
       "      <th>2</th>\n",
       "      <td>8906</td>\n",
       "      <td>1215</td>\n",
       "    </tr>\n",
       "    <tr>\n",
       "      <th>3</th>\n",
       "      <td>8970</td>\n",
       "      <td>1151</td>\n",
       "    </tr>\n",
       "  </tbody>\n",
       "</table>\n",
       "</div>"
      ],
      "text/plain": [
       "converted     0     1\n",
       "0          9037  1084\n",
       "1          8982  1139\n",
       "2          8906  1215\n",
       "3          8970  1151"
      ]
     },
     "execution_count": 73,
     "metadata": {},
     "output_type": "execute_result"
    }
   ],
   "source": [
    "df2 = df.groupby(['converted','new_images']).count()\n",
    "\n",
    "df22 = pd.crosstab(index=[df['treatment'],df['new_images']], columns= df['converted'],margins=False).reset_index()\n",
    "df22\n",
    "df22= df22.iloc[:,-2:]\n",
    "df22\n",
    "\n"
   ]
  },
  {
   "cell_type": "code",
   "execution_count": null,
   "id": "c2534182-f72f-43c7-8954-72b1a58b99c6",
   "metadata": {},
   "outputs": [
    {
     "name": "stdout",
     "output_type": "stream",
     "text": [
      "p value is 0.03630328708083606\n",
      "0.03630328708083606 P\n",
      "Stat 8.526056765102425\n",
      "DOF 3\n",
      "expected [[8973.75 1147.25]\n",
      " [8973.75 1147.25]\n",
      " [8973.75 1147.25]\n",
      " [8973.75 1147.25]]\n"
     ]
    }
   ],
   "source": [
    "##The Pearson’s chi squared test for proportion shows us that that the p-value is less than 0.05 which implies that the 4 groups are significantly different from each other. The null hypothesis is rejected indicating that the increase in users is not by chance.\n",
    "\n",
    "from scipy.stats import chi2_contingency\n",
    "from scipy.stats import chi2\n",
    "\n",
    "stat, p, dof, expected = chi2_contingency(df22)\n",
    "\n",
    "alpha = 0.05\n",
    "print(\"p value is \" + str(p))\n",
    "print(p, 'P')\n",
    "print(\"Stat\",stat)\n",
    "print(\"DOF\", dof)\n",
    "print(\"expected\", expected)"
   ]
  },
  {
   "cell_type": "code",
   "execution_count": null,
   "id": "998918ef-6e94-4f7a-9612-f9eacd4cc840",
   "metadata": {},
   "outputs": [
    {
     "name": "stdout",
     "output_type": "stream",
     "text": [
      "p value is 0.03630328708083606\n",
      "Dependent (reject H0)\n",
      "0.03630328708083606\n"
     ]
    }
   ],
   "source": [
    "alpha = 0.05\n",
    "print(\"p value is \" + str(p))\n",
    "if p <= alpha:\n",
    "    print('Dependent (reject H0)')\n",
    "else:\n",
    "    print('Independent (H0 holds true)')\n",
    "df22\n",
    "print(p)"
   ]
  },
  {
   "cell_type": "code",
   "execution_count": null,
   "id": "61d09a65-7a7f-43de-951b-decb042f5bd0",
   "metadata": {},
   "outputs": [],
   "source": []
  }
 ],
 "metadata": {
  "kernelspec": {
   "display_name": "Python 3 (ipykernel)",
   "language": "python",
   "name": "python3"
  },
  "language_info": {
   "codemirror_mode": {
    "name": "ipython",
    "version": 3
   },
   "file_extension": ".py",
   "mimetype": "text/x-python",
   "name": "python",
   "nbconvert_exporter": "python",
   "pygments_lexer": "ipython3",
   "version": "3.8.10"
  }
 },
 "nbformat": 4,
 "nbformat_minor": 5
}
